{
  "nbformat": 4,
  "nbformat_minor": 0,
  "metadata": {
    "colab": {
      "name": "MNIST_Autoencoder.ipynb",
      "version": "0.3.2",
      "provenance": [],
      "collapsed_sections": []
    },
    "kernelspec": {
      "name": "python3",
      "display_name": "Python 3"
    },
    "accelerator": "GPU"
  },
  "cells": [
    {
      "cell_type": "markdown",
      "metadata": {
        "id": "view-in-github",
        "colab_type": "text"
      },
      "source": [
        "[View in Colaboratory](https://colab.research.google.com/github/kk60258/autoencoder/blob/master/MNIST_Autoencoder.ipynb)"
      ]
    },
    {
      "metadata": {
        "id": "NbUnAU9vbv_L",
        "colab_type": "code",
        "colab": {}
      },
      "cell_type": "code",
      "source": [
        "# Install the latest Tensorflow version.\n",
        "!pip -q install --quiet \"tensorflow>=1.7\"\n",
        "# Install imageio for creating animations.  \n",
        "!pip -q install imageio\n",
        "!pip -q install scikit-image"
      ],
      "execution_count": 0,
      "outputs": []
    },
    {
      "metadata": {
        "id": "BOuwYSNNcDTU",
        "colab_type": "code",
        "colab": {
          "base_uri": "https://localhost:8080/",
          "height": 35
        },
        "outputId": "7f556360-5d4c-486e-86ac-6481a8319769"
      },
      "cell_type": "code",
      "source": [
        "!ls"
      ],
      "execution_count": 12,
      "outputs": [
        {
          "output_type": "stream",
          "text": [
            "datalab\r\n"
          ],
          "name": "stdout"
        }
      ]
    },
    {
      "metadata": {
        "id": "jRqZppVedqN5",
        "colab_type": "code",
        "colab": {
          "base_uri": "https://localhost:8080/",
          "height": 171
        },
        "outputId": "4f5904aa-936e-4400-a4b7-533e0672bf85"
      },
      "cell_type": "code",
      "source": [
        "os.chdir('Deep-Convolutional-AutoEncoder')"
      ],
      "execution_count": 13,
      "outputs": [
        {
          "output_type": "error",
          "ename": "NameError",
          "evalue": "ignored",
          "traceback": [
            "\u001b[0;31m---------------------------------------------------------------------------\u001b[0m",
            "\u001b[0;31mNameError\u001b[0m                                 Traceback (most recent call last)",
            "\u001b[0;32m<ipython-input-13-fab26415948b>\u001b[0m in \u001b[0;36m<module>\u001b[0;34m()\u001b[0m\n\u001b[0;32m----> 1\u001b[0;31m \u001b[0mos\u001b[0m\u001b[0;34m.\u001b[0m\u001b[0mchdir\u001b[0m\u001b[0;34m(\u001b[0m\u001b[0;34m'Deep-Convolutional-AutoEncoder'\u001b[0m\u001b[0;34m)\u001b[0m\u001b[0;34m\u001b[0m\u001b[0m\n\u001b[0m",
            "\u001b[0;31mNameError\u001b[0m: name 'os' is not defined"
          ]
        }
      ]
    },
    {
      "metadata": {
        "id": "BYl9N78ldvGJ",
        "colab_type": "code",
        "colab": {
          "base_uri": "https://localhost:8080/",
          "height": 34
        },
        "outputId": "cd0253eb-ad21-4e74-f27d-0e6c4ac6dda5"
      },
      "cell_type": "code",
      "source": [
        "!ls"
      ],
      "execution_count": 30,
      "outputs": [
        {
          "output_type": "stream",
          "text": [
            "ConvolutionalAutoEncoder.py  graph-run1.png  graph-run2.png  README.md\r\n"
          ],
          "name": "stdout"
        }
      ]
    },
    {
      "metadata": {
        "id": "-bJCo7edJAfT",
        "colab_type": "code",
        "colab": {
          "base_uri": "https://localhost:8080/",
          "height": 1148
        },
        "outputId": "8c94bc48-4263-4af3-b770-6a66cea2c4bd"
      },
      "cell_type": "code",
      "source": [
        "\"\"\" Auto Encoder Example.\n",
        "Build a 2 layers auto-encoder with TensorFlow to compress images to a\n",
        "lower latent space and then reconstruct them.\n",
        "References:\n",
        "    Y. LeCun, L. Bottou, Y. Bengio, and P. Haffner. \"Gradient-based\n",
        "    learning applied to document recognition.\" Proceedings of the IEEE,\n",
        "    86(11):2278-2324, November 1998.\n",
        "Links:\n",
        "    [MNIST Dataset] http://yann.lecun.com/exdb/mnist/\n",
        "Author: Aymeric Damien\n",
        "Project: https://github.com/aymericdamien/TensorFlow-Examples/\n",
        "\"\"\"\n",
        "from __future__ import division, print_function, absolute_import\n",
        "\n",
        "import tensorflow as tf\n",
        "import numpy as np\n",
        "import matplotlib.pyplot as plt\n",
        "\n",
        "# Import MNIST data\n",
        "from tensorflow.examples.tutorials.mnist import input_data\n",
        "mnist = input_data.read_data_sets(\"/tmp/data/\", one_hot=True, source_url='http://yann.lecun.com/exdb/mnist/')\n",
        "\n",
        "# Training Parameters\n",
        "learning_rate = 0.01\n",
        "num_steps = 10000\n",
        "batch_size = 32\n",
        "\n",
        "display_step = 1000\n",
        "examples_to_show = 10\n",
        "\n",
        "# Network Parameters\n",
        "num_hidden_1 = 256 # 1st layer num features\n",
        "num_hidden_2 = 128 # 2nd layer num features (the latent dim)\n",
        "num_input = 784 # MNIST data input (img shape: 28*28)\n",
        "\n",
        "tf.reset_default_graph()\n",
        "# tf Graph input (only pictures)\n",
        "X = tf.placeholder(tf.float32, [None, num_input])\n",
        "\n",
        "mode = tf.placeholder(tf.bool)\n",
        "\n",
        "weights = {\n",
        "    'encoder_h1': tf.Variable(tf.random_normal([num_input, num_hidden_1])),\n",
        "    'encoder_h2': tf.Variable(tf.random_normal([num_hidden_1, num_hidden_2])),\n",
        "    'decoder_h1': tf.Variable(tf.random_normal([num_hidden_2, num_hidden_1])),\n",
        "    'decoder_h2': tf.Variable(tf.random_normal([num_hidden_1, num_input])),\n",
        "}\n",
        "biases = {\n",
        "    'encoder_b1': tf.Variable(tf.random_normal([num_hidden_1])),\n",
        "    'encoder_b2': tf.Variable(tf.random_normal([num_hidden_2])),\n",
        "    'decoder_b1': tf.Variable(tf.random_normal([num_hidden_1])),\n",
        "    'decoder_b2': tf.Variable(tf.random_normal([num_input])),\n",
        "}\n",
        "\n",
        "def max_unpool_2x2(x, output_shape):\n",
        "    out = tf.concat([x, tf.zeros_like(x)], 3)\n",
        "    out = tf.concat([out, tf.zeros_like(out)], 2)\n",
        "    out_size = output_shape\n",
        "    return tf.reshape(out, out_size)\n",
        "\n",
        "def max_pool_2x2(x):\n",
        "    _, argmax = tf.nn.max_pool_with_argmax(x, ksize=[1,2,2,1], strides=[1,2,2,1], padding = 'SAME')\n",
        "    pool = tf.nn.max_pool(x, ksize = [1, 2, 2, 1], strides = [1, 2, 2, 1], padding = 'SAME')\n",
        "    return pool, argmax\n",
        "  \n",
        "# Building the encoder\n",
        "def encoder(x):\n",
        "    # Encoder Hidden layer with sigmoid activation #1\n",
        "    layer_1 = tf.nn.sigmoid(tf.add(tf.matmul(x, weights['encoder_h1']),\n",
        "                                   biases['encoder_b1']))\n",
        "    # Encoder Hidden layer with sigmoid activation #2\n",
        "    layer_2 = tf.nn.sigmoid(tf.add(tf.matmul(layer_1, weights['encoder_h2']),\n",
        "                                   biases['encoder_b2']))\n",
        "    return layer_2\n",
        "\n",
        "\n",
        "# Building the decoder\n",
        "def decoder(x):\n",
        "    # Decoder Hidden layer with sigmoid activation #1\n",
        "    layer_1 = tf.nn.sigmoid(tf.add(tf.matmul(x, weights['decoder_h1']),\n",
        "                                   biases['decoder_b1']))\n",
        "    # Decoder Hidden layer with sigmoid activation #2\n",
        "    layer_2 = tf.nn.sigmoid(tf.add(tf.matmul(layer_1, weights['decoder_h2']),\n",
        "                                   biases['decoder_b2']))\n",
        "    return layer_2\n",
        "\n",
        "# Building the encoder\n",
        "def encoder_cnn(layer):\n",
        "    # Encoder Hidden layer with sigmoid activation #1\n",
        "    layer = tf.reshape(tensor=layer, shape=[-1, 28, 28, 1])\n",
        "    layer = tf.layers.conv2d(inputs=layer, filters=64, kernel_size=[3, 3], strides=[1, 1], padding='same', activation=tf.nn.relu, kernel_regularizer=None, name='conv1')\n",
        "    layer = tf.layers.max_pooling2d(inputs=layer, pool_size=[2, 2], strides=[2, 2], padding='same', name = 'max_pool')\n",
        "    layer = tf.layers.conv2d(inputs=layer, filters=32, kernel_size=[3, 3], strides=[1, 1], padding='same', activation=tf.nn.relu, kernel_regularizer=None, name='conv2')\n",
        "    layer = tf.layers.max_pooling2d(inputs=layer, pool_size=[2, 2], strides=[2, 2], padding='same', name = 'max_pool')\n",
        "    layer = tf.layers.flatten(inputs=layer, name='flatten_c')\n",
        "    layer = tf.layers.dense(inputs=layer, activation=tf.nn.relu, units=10, name='fc_e1')\n",
        "\n",
        "    # layer = tf.layers.batch_normalization(inputs=x, training=mode)\n",
        "    return layer\n",
        "\n",
        "\n",
        "# Building the decoder\n",
        "def decoder_cnn(layer):\n",
        "    layer = tf.layers.dense(inputs=layer, activation=tf.nn.sigmoid, units=49, name='fc_d1')\n",
        "    layer = tf.reshape(tensor=layer, shape=[-1, 7, 7, 1])\n",
        "    layer = tf.image.resize_nearest_neighbor(images=layer, size=[layer.shape[1] * 2, layer.shape[2] * 2])\n",
        "    layer = tf.layers.conv2d_transpose(inputs=layer, filters=32, kernel_size=[3, 3], strides=[1, 1], padding='same', activation=tf.nn.sigmoid, name='conv_trans1')\n",
        "    layer = tf.image.resize_nearest_neighbor(images=layer, size=[layer.shape[1] * 2, layer.shape[2] * 2])\n",
        "    layer = tf.layers.conv2d_transpose(inputs=layer, filters=64, kernel_size=[3, 3], strides=[1, 1], padding='same', activation=tf.nn.sigmoid, name='conv_trans2')\n",
        "    layer = tf.layers.flatten(inputs=layer, name='flatten_d')\n",
        "    layer = tf.layers.dense(inputs=layer, activation=tf.nn.sigmoid, units=784, name='fc_d2')\n",
        "    return layer\n",
        "\n",
        "# Construct model\n",
        "encoder_op = encoder_cnn(X)\n",
        "decoder_op = decoder_cnn(encoder_op)\n",
        "\n",
        "# Prediction\n",
        "y_pred = decoder_op\n",
        "# Targets (Labels) are the input data.\n",
        "y_true = X\n",
        "\n",
        "# Define loss and optimizer, minimize the squared error\n",
        "loss = tf.reduce_mean(tf.pow(y_true - y_pred, 2))\n",
        "optimizer = tf.train.RMSPropOptimizer(learning_rate).minimize(loss)\n",
        "\n",
        "# Initialize the variables (i.e. assign their default value)\n",
        "init = tf.global_variables_initializer()\n",
        "\n",
        "# Start Training\n",
        "# Start a new TF session\n",
        "with tf.Session() as sess:\n",
        "\n",
        "    # Run the initializer\n",
        "    sess.run(init)\n",
        "\n",
        "    # Training\n",
        "    for i in range(1, num_steps+1):\n",
        "        # Prepare Data\n",
        "        # Get the next batch of MNIST data (only images are needed, not labels)\n",
        "        batch_x, _ = mnist.train.next_batch(batch_size)\n",
        "\n",
        "        # Run optimization op (backprop) and cost op (to get loss value)\n",
        "        _, l = sess.run([optimizer, loss], feed_dict={X: batch_x})\n",
        "        # Display logs per step\n",
        "        if i % display_step == 0 or i == 1:\n",
        "            print('Step %i: Minibatch Loss: %f' % (i, l))\n",
        "\n",
        "    # Testing\n",
        "    # Encode and decode images from test set and visualize their reconstruction.\n",
        "    n = 4\n",
        "    canvas_orig = np.empty((28 * n, 28 * n))\n",
        "    canvas_recon = np.empty((28 * n, 28 * n))\n",
        "    for i in range(n):\n",
        "        # MNIST test set\n",
        "        batch_x, _ = mnist.test.next_batch(n)\n",
        "        # Encode and decode the digit image\n",
        "        g = sess.run(decoder_op, feed_dict={X: batch_x})\n",
        "\n",
        "        # Display original images\n",
        "        for j in range(n):\n",
        "            # Draw the original digits\n",
        "            canvas_orig[i * 28:(i + 1) * 28, j * 28:(j + 1) * 28] = \\\n",
        "                batch_x[j].reshape([28, 28])\n",
        "        # Display reconstructed images\n",
        "        for j in range(n):\n",
        "            # Draw the reconstructed digits\n",
        "            canvas_recon[i * 28:(i + 1) * 28, j * 28:(j + 1) * 28] = \\\n",
        "                g[j].reshape([28, 28])\n",
        "\n",
        "    print(\"Original Images\")\n",
        "    plt.figure(figsize=(n, n))\n",
        "    plt.imshow(canvas_orig, origin=\"upper\", cmap=\"gray\")\n",
        "    plt.show()\n",
        "\n",
        "    print(\"Reconstructed Images\")\n",
        "    plt.figure(figsize=(n, n))\n",
        "    plt.imshow(canvas_recon, origin=\"upper\", cmap=\"gray\")\n",
        "    plt.show()"
      ],
      "execution_count": 2,
      "outputs": [
        {
          "output_type": "stream",
          "text": [
            "Extracting /tmp/data/train-images-idx3-ubyte.gz\n",
            "Extracting /tmp/data/train-labels-idx1-ubyte.gz\n",
            "Extracting /tmp/data/t10k-images-idx3-ubyte.gz\n",
            "Extracting /tmp/data/t10k-labels-idx1-ubyte.gz\n",
            "Step 1: Minibatch Loss: 0.255757\n",
            "Step 1000: Minibatch Loss: 0.033598\n",
            "Step 2000: Minibatch Loss: 0.028445\n",
            "Step 3000: Minibatch Loss: 0.031033\n",
            "Step 4000: Minibatch Loss: 0.026439\n",
            "Step 5000: Minibatch Loss: 0.026834\n",
            "Step 6000: Minibatch Loss: 0.022948\n",
            "Step 7000: Minibatch Loss: 0.026867\n",
            "Step 8000: Minibatch Loss: 0.024962\n",
            "Step 9000: Minibatch Loss: 0.025261\n",
            "Step 10000: Minibatch Loss: 0.023013\n",
            "Step 11000: Minibatch Loss: 0.025427\n",
            "Step 12000: Minibatch Loss: 0.026404\n",
            "Step 13000: Minibatch Loss: 0.027268\n",
            "Step 14000: Minibatch Loss: 0.020208\n",
            "Step 15000: Minibatch Loss: 0.020134\n",
            "Step 16000: Minibatch Loss: 0.023824\n",
            "Step 17000: Minibatch Loss: 0.021965\n",
            "Step 18000: Minibatch Loss: 0.023128\n",
            "Step 19000: Minibatch Loss: 0.021107\n",
            "Step 20000: Minibatch Loss: 0.020576\n",
            "Step 21000: Minibatch Loss: 0.019354\n",
            "Step 22000: Minibatch Loss: 0.020343\n",
            "Step 23000: Minibatch Loss: 0.018358\n",
            "Step 24000: Minibatch Loss: 0.019639\n",
            "Step 25000: Minibatch Loss: 0.019053\n",
            "Step 26000: Minibatch Loss: 0.018897\n",
            "Step 27000: Minibatch Loss: 0.022208\n",
            "Step 28000: Minibatch Loss: 0.022621\n",
            "Step 29000: Minibatch Loss: 0.021941\n",
            "Step 30000: Minibatch Loss: 0.021400\n",
            "Original Images\n"
          ],
          "name": "stdout"
        },
        {
          "output_type": "display_data",
          "data": {
            "image/png": "[encoded data removed]",
            "text/plain": [
              "<matplotlib.figure.Figure at 0x7f2e8a25f128>"
            ]
          },
          "metadata": {
            "tags": []
          }
        },
        {
          "output_type": "stream",
          "text": [
            "Reconstructed Images\n"
          ],
          "name": "stdout"
        },
        {
          "output_type": "display_data",
          "data": {
            "image/png": "[encoded data removed]",
            "text/plain": [
              "<matplotlib.figure.Figure at 0x7f2e21842ef0>"
            ]
          },
          "metadata": {
            "tags": []
          }
        }
      ]
    },
    {
      "metadata": {
        "id": "r2pulwPYQ3oz",
        "colab_type": "code",
        "colab": {}
      },
      "cell_type": "code",
      "source": [
        ""
      ],
      "execution_count": 0,
      "outputs": []
    }
  ]
}